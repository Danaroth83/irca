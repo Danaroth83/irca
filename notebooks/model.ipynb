{
 "cells": [
  {
   "cell_type": "code",
   "execution_count": 1,
   "id": "bdc63769",
   "metadata": {},
   "outputs": [],
   "source": [
    "import sys\n",
    "sys.path.append(\"./../\")\n",
    "\n",
    "# Run the following line to install the required libraries\n",
    "# !{sys.executable} -m pip install --user -r ./../requirements.txt"
   ]
  },
  {
   "cell_type": "code",
   "execution_count": 2,
   "id": "6f6b8c01",
   "metadata": {},
   "outputs": [],
   "source": [
    "import numpy as np\n",
    "import matplotlib.pyplot as plt\n",
    "import ipywidgets\n",
    "from src.characterization.preprocessing import Characterization, Parameters, CharacterizationPixel\n",
    "from src.interface.characterization import CharacterizationInterface"
   ]
  },
  {
   "cell_type": "markdown",
   "id": "7c42b212",
   "metadata": {},
   "source": [
    "## Interferometer transfer function model\n",
    "\n",
    "The user can choose the value different parameters to construct the transfer function of a simple interferometer.\n",
    "Each parameter is assumed here to be constant with the wavenumbers."
   ]
  },
  {
   "cell_type": "code",
   "execution_count": 3,
   "id": "f6e84c9b",
   "metadata": {},
   "outputs": [
    {
     "data": {
      "application/vnd.jupyter.widget-view+json": {
       "model_id": "eb71cc2cc6a1479685fff33fef1a37bd",
       "version_major": 2,
       "version_minor": 0
      },
      "text/plain": [
       "interactive(children=(IntSlider(value=5, description='opd', max=10, min=1), FloatSlider(value=0.1, description…"
      ]
     },
     "metadata": {},
     "output_type": "display_data"
    }
   ],
   "source": [
    "def interferometry_example(opd=5, reflectivity=0.1, gain=1, phase_shift=0, model=0):\n",
    "    wavenumbers = np.linspace(1, 2.85, 10000, endpoint=False)\n",
    "\n",
    "    interferometer = Characterization(\n",
    "        Parameters(\n",
    "            opd=opd,\n",
    "            reflectivity=reflectivity,\n",
    "            gain=gain,\n",
    "            phase_shift=phase_shift,\n",
    "        ),\n",
    "        model=model,\n",
    "    )\n",
    "    _, ax = interferometer.visualize(wavenumbers=wavenumbers, color=\"C1\")\n",
    "    ax.set_ylim((0.5, 1.5))\n",
    "    plt.show()\n",
    "\n",
    "\n",
    "# Slider visualization\n",
    "parameters_range = {\n",
    "    \"opd\": (1, 10),\n",
    "    \"reflectivity\": (0, 0.2, 0.01),\n",
    "    \"gain\": (0.5, 1.5, 0.01),\n",
    "    \"phase_shift\": (0, 6.28),\n",
    "    \"model\": [0, 2, 3],\n",
    "}\n",
    "ipywidgets.interact(interferometry_example, **parameters_range);"
   ]
  },
  {
   "cell_type": "markdown",
   "id": "7f087f97",
   "metadata": {},
   "source": [
    "## Comparing with the acquired dataset\n",
    "\n",
    "It is possible to load some acquired characterization dataset to visually compare the accuracy of our model. The interaction shows that the dependency of the parameters with the wavenumbers is mandatory for a more accurate representation of the results. The default values for the parameters were obtained with the Maximum Likelihood (ML) method."
   ]
  },
  {
   "cell_type": "code",
   "execution_count": 4,
   "id": "65ca105b",
   "metadata": {},
   "outputs": [],
   "source": [
    "# Loading the acquisition dataset\n",
    "interferometer = 40\n",
    "reference_folder = \"../data/acquisitions/imspoc_uv_2\"\n",
    "acquisition = CharacterizationPixel.load(folder=reference_folder)"
   ]
  },
  {
   "cell_type": "code",
   "execution_count": 5,
   "id": "908b3921",
   "metadata": {},
   "outputs": [
    {
     "data": {
      "application/vnd.jupyter.widget-view+json": {
       "model_id": "8bcadbc9fed4459794e739e04b82f733",
       "version_major": 2,
       "version_minor": 0
      },
      "text/plain": [
       "interactive(children=(FloatSlider(value=8.58, description='opd', max=15.0, min=5.0), FloatSlider(value=0.29, d…"
      ]
     },
     "metadata": {},
     "output_type": "display_data"
    }
   ],
   "source": [
    "def characterization_compare(transfer, wavenumbers, opd=8.58, reflectivity=0.29, phase_shift=3.083, gain=4.73, model=0):\n",
    "    gain = gain * 1e+9\n",
    "    characterization = Characterization(\n",
    "        Parameters(\n",
    "            opd=opd,\n",
    "            reflectivity=reflectivity,\n",
    "            gain=gain,\n",
    "            phase_shift=phase_shift,\n",
    "        ),\n",
    "        model=model,\n",
    "    )\n",
    "    _, ax = characterization.visualize_compare(transfer=transfer, wavenumbers=wavenumbers)\n",
    "    ax.set_ylim((0, 4))\n",
    "    plt.show()\n",
    "    \n",
    "\n",
    "# Slider visualization\n",
    "parameters_range = {\n",
    "    \"opd\": (5, 15, 0.1),\n",
    "    \"reflectivity\": (0, 0.5, 0.01),\n",
    "    \"gain\": (0, 10, 0.1),\n",
    "    \"phase_shift\": (0, 6.28),\n",
    "    \"model\": [0, 2, 3],\n",
    "}\n",
    "ipywidgets.interact(\n",
    "    characterization_compare, \n",
    "    transfer=ipywidgets.fixed(acquisition.data[interferometer, :][np.newaxis, :]),\n",
    "    wavenumbers=ipywidgets.fixed(acquisition.central_wavenumbers),\n",
    "    **parameters_range\n",
    ");"
   ]
  },
  {
   "cell_type": "markdown",
   "id": "17e947a3",
   "metadata": {},
   "source": [
    "## Comparison with IRCA results\n",
    "We load the results of our proposed modelization of the transfer function, obtained running our proposed IRCA (interferometry response characterization algorithm); in particular, we allow the gain and the reflectivity to be modeled with a polynomial function of degree 5."
   ]
  },
  {
   "cell_type": "code",
   "execution_count": 6,
   "id": "6ec421c3",
   "metadata": {},
   "outputs": [],
   "source": [
    "reference_folder = \"../data/acquisitions/imspoc_uv_2\"\n",
    "characterization_folder = \"../data/characterization/imspoc_uv_2\"\n",
    "\n",
    "acquisition = CharacterizationPixel.load(folder=reference_folder)\n",
    "characterization = Characterization.load(load_folder=characterization_folder)"
   ]
  },
  {
   "cell_type": "code",
   "execution_count": 7,
   "id": "cf18dd54",
   "metadata": {},
   "outputs": [
    {
     "data": {
      "application/vnd.jupyter.widget-view+json": {
       "model_id": "fa84d399b39a43229fd7c180e860bde2",
       "version_major": 2,
       "version_minor": 0
      },
      "text/plain": [
       "interactive(children=(IntSlider(value=40, description='interferometer', max=318), Output()), _dom_classes=('wi…"
      ]
     },
     "metadata": {},
     "output_type": "display_data"
    }
   ],
   "source": [
    "def visualize_characterization(characterization, acquisition, interferometer=40):\n",
    "    characterization.visualize_compare(\n",
    "        transfer=acquisition.data, \n",
    "        wavenumbers=acquisition.central_wavenumbers, \n",
    "        interferometer=interferometer,\n",
    "    )\n",
    "    plt.show()\n",
    "\n",
    "\n",
    "# Slider visualization\n",
    "ipywidgets.interact(\n",
    "    visualize_characterization,\n",
    "    characterization=ipywidgets.fixed(characterization),\n",
    "    acquisition=ipywidgets.fixed(acquisition), \n",
    "    interferometer=(0, 318)\n",
    ");"
   ]
  },
  {
   "cell_type": "code",
   "execution_count": null,
   "id": "5f113f53",
   "metadata": {},
   "outputs": [],
   "source": []
  }
 ],
 "metadata": {
  "kernelspec": {
   "display_name": "Python 3 (ipykernel)",
   "language": "python",
   "name": "python3"
  },
  "language_info": {
   "codemirror_mode": {
    "name": "ipython",
    "version": 3
   },
   "file_extension": ".py",
   "mimetype": "text/x-python",
   "name": "python",
   "nbconvert_exporter": "python",
   "pygments_lexer": "ipython3",
   "version": "3.10.6"
  }
 },
 "nbformat": 4,
 "nbformat_minor": 5
}
